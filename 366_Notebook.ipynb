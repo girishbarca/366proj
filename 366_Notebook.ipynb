{
  "nbformat": 4,
  "nbformat_minor": 0,
  "metadata": {
    "colab": {
      "name": "366 Notebook.ipynb",
      "provenance": [],
      "authorship_tag": "ABX9TyPUiN64sVXGMnDF7C/tFQC/",
      "include_colab_link": true
    },
    "kernelspec": {
      "name": "python3",
      "display_name": "Python 3"
    },
    "language_info": {
      "name": "python"
    }
  },
  "cells": [
    {
      "cell_type": "markdown",
      "metadata": {
        "id": "view-in-github",
        "colab_type": "text"
      },
      "source": [
        "<a href=\"https://colab.research.google.com/github/girishbarca/366proj/blob/master/366_Notebook.ipynb\" target=\"_parent\"><img src=\"https://colab.research.google.com/assets/colab-badge.svg\" alt=\"Open In Colab\"/></a>"
      ]
    },
    {
      "cell_type": "markdown",
      "metadata": {
        "id": "eHVzG4K2eSkD"
      },
      "source": [
        "In this project, we tested aggregation rules on approval votes from real world participatory budgeting elections. Specifically, we use data from Pubulib, which consists of real world approval votes from city elections."
      ]
    },
    {
      "cell_type": "code",
      "metadata": {
        "id": "Fl2PJHZWc3Bg"
      },
      "source": [
        "import csv\n",
        "from itertools import chain, combinations"
      ],
      "execution_count": 8,
      "outputs": []
    },
    {
      "cell_type": "markdown",
      "metadata": {
        "id": "6-GsSajDeTkX"
      },
      "source": [
        "Helper functions define below. `parser` parses participatory budgeting data from Pubulib."
      ]
    },
    {
      "cell_type": "code",
      "metadata": {
        "id": "iyLYpcX4ePLk"
      },
      "source": [
        "def all_subsets(ss):\n",
        "    return chain(*map(lambda x: combinations(ss, x), range(0, len(ss)+1)))\n",
        "\n",
        "def parser(path):\n",
        "    with open(path, 'r', newline='', encoding=\"utf-8\") as csvfile:\n",
        "        meta = {}\n",
        "        projects = {}\n",
        "        votes = []\n",
        "        section = \"\"\n",
        "        header = []\n",
        "        reader = csv.reader(csvfile, delimiter=';')\n",
        "        for row in reader:\n",
        "            if str(row[0]).strip().lower() in [\"meta\", \"projects\", \"votes\"]:\n",
        "                section = str(row[0]).strip().lower()\n",
        "                header = next(reader)\n",
        "            elif section == \"meta\":\n",
        "                meta[row[0]] = row[1].strip()\n",
        "            elif section == \"projects\":\n",
        "                projects[row[0]] = {}\n",
        "                for it, key in enumerate(header[1:]):\n",
        "                    projects[row[0]][key.strip()] = row[it+1].strip()\n",
        "            elif section == \"votes\":\n",
        "                votes.append({})\n",
        "                for it, key in enumerate(header[1:]):\n",
        "                    votes[-1][key.strip()] = row[it+1].strip()\n",
        "                votes[-1]['vote'] = votes[-1]['vote'].split(',')\n",
        "                votes[-1]['vote'] = set([v for v in votes[-1]['vote']])\n",
        "        items = projects.keys()\n",
        "        max_cost = float(meta['budget'])\n",
        "        costs = {}\n",
        "        for item in items:\n",
        "            costs[item] = float(projects[item]['cost'])\n",
        "        return votes, items, costs, max_cost\n"
      ],
      "execution_count": 9,
      "outputs": []
    },
    {
      "cell_type": "markdown",
      "metadata": {
        "id": "hAxaBDMzgsUf"
      },
      "source": [
        "We then implement the 3 satisfaction functions defined in Faliszewski et al. For a budget $B$ and a voter $v$ with their approval set $A_v$, let $B_v := A_v ∩ B$. They are defined as follows:\n",
        "1. $ f(A_v, B) = |B_v| $ Satisfaction here is the number of items in the budget that the voter approves of\n",
        "2. $ f(A_v, B) = \\sum_{a∈B_v} c(a) = c(Bv) $ Satisfaction here is the total cost of items in the budget that the voter approves of\n",
        "3. $ f(A_v, B) = 1_{|B_v| > 0}$ Satisfaction here is binary where the satisfaction is 1 if at least one of the voter's approved items are in the budget and 0 otherwise."
      ]
    },
    {
      "cell_type": "code",
      "metadata": {
        "id": "ScGraBqyiS1R"
      },
      "source": [
        "def num_satisfaction(budget, voter, costs):\n",
        "    return len(budget.intersection(voter['vote']))\n",
        "\n",
        "def cost_satisfaction(budget, voter, costs):\n",
        "    covered = budget.intersection(voter['vote'])\n",
        "    return total_cost(covered, costs)\n",
        "\n",
        "def binary_satisfaction(budget, voter, costs):\n",
        "    return num_satisfaction(budget, voter, costs) > 0"
      ],
      "execution_count": 10,
      "outputs": []
    },
    {
      "cell_type": "markdown",
      "metadata": {
        "id": "h6H_2CQridsu"
      },
      "source": [
        "We then implement the 3 voter aggregation rules defined in Faliszewski et al.\n",
        "1. Max rules: Selects the budget as the subset of all items that receives the highest satisfaction score as mentioned above.\n",
        "2. Greedy rules: For a satisfaction function $f$, the rule proceeds in iterations, maintaining a partial budget $B$, where in each iteration it adds an item a to B which maximizes the value $\\sum_{v∈V} f(A_v, B ∪ {a})$\n",
        "3. For a satisfaction function $f$, the rule proceeds in iterations, maintaining a partial budget $B$, where in each iteration it adds an item a to B which maximizes the value $(\\sum_{v∈V} f(A_v, B ∪ {a}) - \\sum_{v∈V} f(A_v, B)) / c(a)$ where $c(a)$ is the cost of the item.\n",
        "\n"
      ]
    },
    {
      "cell_type": "code",
      "metadata": {
        "id": "Z4olem89k3BC"
      },
      "source": [
        "def total_cost(budget, costs):\n",
        "    cost = 0\n",
        "    for it in budget:\n",
        "        cost += costs[it]\n",
        "    return cost\n",
        "\n",
        "def max_rule(items, voters, costs, max_cost, satisfaction_fn):\n",
        "    subsets = all_subsets(items)\n",
        "    best_set = set([])\n",
        "    max_score = 0\n",
        "    for budget in subsets:\n",
        "        if (total_cost(budget, costs) > max_cost):\n",
        "            continue\n",
        "        score = sum([satisfaction_fn(set(budget), v, costs) for v in voters])\n",
        "        if score > max_score:\n",
        "            max_score = score\n",
        "            best_set = budget\n",
        "    return best_set\n",
        "\n",
        "def greedy_rule(items, voters, costs, max_cost, satisfaction_fn):\n",
        "    cur_budget = set([])\n",
        "    cur_cost = 0\n",
        "    items_set = set(items)\n",
        "    while (cur_cost < max_cost):\n",
        "        best_item = None\n",
        "        best_score = 0\n",
        "        for it in items:\n",
        "            if(costs[it] + cur_cost > max_cost or it in cur_budget):\n",
        "                continue\n",
        "            score = sum([satisfaction_fn(cur_budget | set([it]), v, costs) for v in voters])\n",
        "            if (score >= best_score):\n",
        "                best_score = score\n",
        "                best_item = it\n",
        "        if not best_item:\n",
        "            break\n",
        "        cur_budget.add(best_item)\n",
        "        cur_cost += costs[best_item]\n",
        "    return cur_budget\n",
        "\n",
        "def prop_greedy_rule(items, voters, costs, max_cost, satisfaction_fn):\n",
        "    cur_budget = set([])\n",
        "    cur_cost = 0\n",
        "    cur_score = 0\n",
        "    items_set = set(items)\n",
        "    while (cur_cost < max_cost):\n",
        "        best_item = None\n",
        "        best_score = 0\n",
        "        best_norm_score = 0\n",
        "        for it in items:\n",
        "            if(costs[it] + cur_cost > max_cost or it in cur_budget):\n",
        "                continue\n",
        "            score = sum([satisfaction_fn(cur_budget | set([it]), v, costs) for v in voters])\n",
        "            norm_score = (score - cur_score) / costs[it]\n",
        "            if (norm_score >= best_norm_score):\n",
        "                best_score = score\n",
        "                best_norm_score = norm_score\n",
        "                best_item = it\n",
        "        if not best_item:\n",
        "            break\n",
        "        cur_budget.add(best_item)\n",
        "        cur_score = best_score\n",
        "        cur_cost += costs[best_item]\n",
        "    return cur_budget"
      ],
      "execution_count": 11,
      "outputs": []
    },
    {
      "cell_type": "markdown",
      "metadata": {
        "id": "pxfekXeNk52b"
      },
      "source": [
        "We then define the metric functions we intend to use for testing on Pubulib data. Specifically, we consider voter anger which is defined as the fraction of voters who are ignored in the election and the average cost of the budget."
      ]
    },
    {
      "cell_type": "code",
      "metadata": {
        "id": "7MjYlUbamWVn"
      },
      "source": [
        "def anger_ratio(voters, budget):\n",
        "    total_anger = sum([binary_satisfaction(budget, v, None) == 0 for v in voters])\n",
        "    return total_anger / len(voters)\n",
        "\n",
        "def ave_cost(budget, costs):\n",
        "    total_cost = sum([costs[it] for it in budget])\n",
        "    return total_cost / len(budget)"
      ],
      "execution_count": 13,
      "outputs": []
    },
    {
      "cell_type": "code",
      "metadata": {
        "id": "ovhHmXMTrfuR"
      },
      "source": [
        "votes, items, costs, max_cost = parser('poland_warszawa_2019_siekierki-augustowka.pb')\n",
        "print(total_cost(items, costs))\n",
        "print(\"GREEDY NUM_SAT\")\n",
        "budget = greedy_rule(items, votes, costs, max_cost, num_satisfaction)\n",
        "print(\"ANGER: \", anger_ratio(votes, budget))\n",
        "print(\"AVE COST: \", ave_cost(budget, costs))\n",
        "\n",
        "print(\"----\")\n",
        "print(\"GREEDY COST_SAT\")\n",
        "budget = greedy_rule(items, votes, costs, max_cost, cost_satisfaction)\n",
        "print(\"ANGER: \", anger_ratio(votes, budget))\n",
        "print(\"AVE COST: \", ave_cost(budget, costs))\n",
        "\n",
        "print(\"----\")\n",
        "print(\"GREEDY BIN_SAT\")\n",
        "budget = greedy_rule(items, votes, costs, max_cost, binary_satisfaction)\n",
        "print(\"ANGER: \", anger_ratio(votes, budget))\n",
        "print(\"AVE COST: \", ave_cost(budget, costs))\n",
        "\n",
        "print(\"----\")\n",
        "print(\"PROP GREEDY NUM_SAT\")\n",
        "print(prop_greedy_rule(items, votes, costs, max_cost, num_satisfaction))\n",
        "print(\"ANGER: \", anger_ratio(votes, budget))\n",
        "print(\"AVE COST: \", ave_cost(budget, costs))\n",
        "\n",
        "print(\"----\")\n",
        "print(\"PROP GREEDY COST_SAT\")\n",
        "print(prop_greedy_rule(items, votes, costs, max_cost, cost_satisfaction))\n",
        "print(\"ANGER: \", anger_ratio(votes, budget))\n",
        "print(\"AVE COST: \", ave_cost(budget, costs))\n",
        "\n",
        "print(\"----\")\n",
        "print(\"PROP GREEDY BIN_SAT\")\n",
        "print(prop_greedy_rule(items, votes, costs, max_cost, binary_satisfaction))\n",
        "print(\"ANGER: \", anger_ratio(votes, budget))\n",
        "print(\"AVE COST: \", ave_cost(budget, costs))\n",
        "\n",
        "print(\"----\")\n",
        "print(\"MAX NUM_SAT\")\n",
        "print(max_rule(items, votes, costs, max_cost, num_satisfaction))\n",
        "print(\"ANGER: \", anger_ratio(votes, budget))\n",
        "print(\"AVE COST: \", ave_cost(budget, costs))\n",
        "\n",
        "print(\"----\")\n",
        "print(\"MAX COST_SAT\")\n",
        "print(max_rule(items, votes, costs, max_cost, cost_satisfaction))\n",
        "print(\"ANGER: \", anger_ratio(votes, budget))\n",
        "print(\"AVE COST: \", ave_cost(budget, costs))\n",
        "\n",
        "print(\"----\")\n",
        "print(\"MAX BIN_SAT\")\n",
        "print(max_rule(items, votes, costs, max_cost, binary_satisfaction))\n",
        "print(\"ANGER: \", anger_ratio(votes, budget))\n",
        "print(\"AVE COST: \", ave_cost(budget, costs))"
      ],
      "execution_count": null,
      "outputs": []
    }
  ]
}