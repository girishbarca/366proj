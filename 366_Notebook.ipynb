{
  "cells": [
    {
      "cell_type": "markdown",
      "metadata": {
        "id": "eHVzG4K2eSkD"
      },
      "source": [
        "In this project, we tested aggregation rules on approval votes from real world participatory budgeting elections. Specifically, we use data from Pubulib, which consists of real world approval votes from city elections."
      ]
    },
    {
      "cell_type": "code",
      "execution_count": 2,
      "metadata": {
        "id": "Fl2PJHZWc3Bg"
      },
      "outputs": [],
      "source": [
        "import csv\n",
        "from itertools import chain, combinations\n",
        "import matplotlib.pyplot as plt"
      ]
    },
    {
      "cell_type": "markdown",
      "metadata": {
        "id": "6-GsSajDeTkX"
      },
      "source": [
        "Helper functions define below. `parser` parses participatory budgeting data from Pubulib."
      ]
    },
    {
      "cell_type": "code",
      "execution_count": 3,
      "metadata": {
        "id": "iyLYpcX4ePLk"
      },
      "outputs": [],
      "source": [
        "def all_subsets(ss):\n",
        "    return chain(*map(lambda x: combinations(ss, x), range(0, len(ss)+1)))\n",
        "\n",
        "def parser(path):\n",
        "    with open(path, 'r', newline='', encoding=\"utf-8\") as csvfile:\n",
        "        meta = {}\n",
        "        projects = {}\n",
        "        votes = []\n",
        "        section = \"\"\n",
        "        header = []\n",
        "        reader = csv.reader(csvfile, delimiter=';')\n",
        "        for row in reader:\n",
        "            if str(row[0]).strip().lower() in [\"meta\", \"projects\", \"votes\"]:\n",
        "                section = str(row[0]).strip().lower()\n",
        "                header = next(reader)\n",
        "            elif section == \"meta\":\n",
        "                meta[row[0]] = row[1].strip()\n",
        "            elif section == \"projects\":\n",
        "                projects[row[0]] = {}\n",
        "                for it, key in enumerate(header[1:]):\n",
        "                    projects[row[0]][key.strip()] = row[it+1].strip()\n",
        "            elif section == \"votes\":\n",
        "                votes.append({})\n",
        "                for it, key in enumerate(header[1:]):\n",
        "                    votes[-1][key.strip()] = row[it+1].strip()\n",
        "                votes[-1]['vote'] = votes[-1]['vote'].split(',')\n",
        "                votes[-1]['vote'] = set([v for v in votes[-1]['vote']])\n",
        "        items = projects.keys()\n",
        "        max_cost = float(meta['budget'])\n",
        "        costs = {}\n",
        "        for item in items:\n",
        "            costs[item] = float(projects[item]['cost'])\n",
        "        return votes, items, costs, max_cost\n"
      ]
    },
    {
      "cell_type": "markdown",
      "metadata": {
        "id": "hAxaBDMzgsUf"
      },
      "source": [
        "We then implement the 3 satisfaction functions defined in Faliszewski et al. For a budget $B$ and a voter $v$ with their approval set $A_v$, let $B_v := A_v ∩ B$. They are defined as follows:\n",
        "1. $ f(A_v, B) = |B_v| $ Satisfaction here is the number of items in the budget that the voter approves of\n",
        "2. $ f(A_v, B) = \\sum_{a∈B_v} c(a) = c(Bv) $ Satisfaction here is the total cost of items in the budget that the voter approves of\n",
        "3. $ f(A_v, B) = 1_{|B_v| > 0}$ Satisfaction here is binary where the satisfaction is 1 if at least one of the voter's approved items are in the budget and 0 otherwise."
      ]
    },
    {
      "cell_type": "code",
      "execution_count": 4,
      "metadata": {
        "id": "ScGraBqyiS1R"
      },
      "outputs": [],
      "source": [
        "def num_satisfaction(budget, voter, costs):\n",
        "    return len(budget.intersection(voter['vote']))\n",
        "\n",
        "def cost_satisfaction(budget, voter, costs):\n",
        "    covered = budget.intersection(voter['vote'])\n",
        "    return total_cost(covered, costs)\n",
        "\n",
        "def binary_satisfaction(budget, voter, costs):\n",
        "    return num_satisfaction(budget, voter, costs) > 0"
      ]
    },
    {
      "cell_type": "markdown",
      "metadata": {
        "id": "h6H_2CQridsu"
      },
      "source": [
        "We then implement the 3 voter aggregation rules defined in Faliszewski et al.\n",
        "1. Max rules: Selects the budget as the subset of all items that receives the highest satisfaction score as mentioned above.\n",
        "2. Greedy rules: For a satisfaction function $f$, the rule proceeds in iterations, maintaining a partial budget $B$, where in each iteration it adds an item a to B which maximizes the value $\\sum_{v∈V} f(A_v, B ∪ {a})$\n",
        "3. For a satisfaction function $f$, the rule proceeds in iterations, maintaining a partial budget $B$, where in each iteration it adds an item a to B which maximizes the value $(\\sum_{v∈V} f(A_v, B ∪ {a}) - \\sum_{v∈V} f(A_v, B)) / c(a)$ where $c(a)$ is the cost of the item.\n",
        "\n"
      ]
    },
    {
      "cell_type": "code",
      "execution_count": 37,
      "metadata": {
        "id": "Z4olem89k3BC"
      },
      "outputs": [],
      "source": [
        "def total_cost(budget, costs):\n",
        "    cost = 0\n",
        "    for it in budget:\n",
        "        cost += costs[it]\n",
        "    return cost\n",
        "\n",
        "def max_rule(items, voters, costs, max_cost, satisfaction_fn):\n",
        "    subsets = all_subsets(items)\n",
        "    best_set = set([])\n",
        "    max_score = 0\n",
        "    for budget in subsets:\n",
        "        if (total_cost(budget, costs) > max_cost):\n",
        "            continue\n",
        "        score = sum([satisfaction_fn(set(budget), v, costs) for v in voters])\n",
        "        if score > max_score:\n",
        "            max_score = score\n",
        "            best_set = budget\n",
        "    return set(best_set)\n",
        "\n",
        "def greedy_rule(items, voters, costs, max_cost, satisfaction_fn):\n",
        "    cur_budget = set([])\n",
        "    cur_cost = 0\n",
        "    items_set = set(items)\n",
        "    while (cur_cost < max_cost):\n",
        "        best_item = None\n",
        "        best_score = 0\n",
        "        for it in items:\n",
        "            if(costs[it] + cur_cost > max_cost or it in cur_budget):\n",
        "                continue\n",
        "            score = sum([satisfaction_fn(cur_budget | set([it]), v, costs) for v in voters])\n",
        "            if (score >= best_score):\n",
        "                best_score = score\n",
        "                best_item = it\n",
        "        if not best_item:\n",
        "            break\n",
        "        cur_budget.add(best_item)\n",
        "        cur_cost += costs[best_item]\n",
        "    return cur_budget\n",
        "\n",
        "def prop_greedy_rule(items, voters, costs, max_cost, satisfaction_fn):\n",
        "    cur_budget = set([])\n",
        "    cur_cost = 0\n",
        "    cur_score = 0\n",
        "    items_set = set(items)\n",
        "    while (cur_cost < max_cost):\n",
        "        best_item = None\n",
        "        best_score = 0\n",
        "        best_norm_score = 0\n",
        "        for it in items:\n",
        "            if(costs[it] + cur_cost > max_cost or it in cur_budget):\n",
        "                continue\n",
        "            score = sum([satisfaction_fn(cur_budget | set([it]), v, costs) for v in voters])\n",
        "            norm_score = (score - cur_score) / costs[it]\n",
        "            if (norm_score >= best_norm_score):\n",
        "                best_score = score\n",
        "                best_norm_score = norm_score\n",
        "                best_item = it\n",
        "        if not best_item:\n",
        "            break\n",
        "        cur_budget.add(best_item)\n",
        "        cur_score = best_score\n",
        "        cur_cost += costs[best_item]\n",
        "    return cur_budget"
      ]
    },
    {
      "cell_type": "markdown",
      "metadata": {
        "id": "pxfekXeNk52b"
      },
      "source": [
        "We then define the metric functions we intend to use for testing on Pubulib data. Specifically, we consider voter anger which is defined as the fraction of voters who are ignored in the election and the average cost of the budget."
      ]
    },
    {
      "cell_type": "code",
      "execution_count": 39,
      "metadata": {
        "id": "7MjYlUbamWVn"
      },
      "outputs": [],
      "source": [
        "def anger_ratio(voters, budget):\n",
        "    total_anger = sum([binary_satisfaction(budget, v, None) == 0 for v in voters])\n",
        "    return total_anger / len(voters)\n",
        "\n",
        "def ave_cost(budget, costs):\n",
        "    total_cost = sum([costs[it] for it in budget])\n",
        "    return total_cost / len(budget)"
      ]
    },
    {
      "cell_type": "code",
      "execution_count": null,
      "metadata": {
        "id": "ovhHmXMTrfuR"
      },
      "outputs": [],
      "source": [
        "votes, items, costs, max_cost = parser('poland_warszawa_2019_nadwisle.pb')\n",
        "print(total_cost(items, costs))\n",
        "print(\"GREEDY NUM_SAT\")\n",
        "budget = greedy_rule(items, votes, costs, max_cost, num_satisfaction)\n",
        "print(\"ANGER: \", anger_ratio(votes, budget))\n",
        "print(\"AVE COST: \", ave_cost(budget, costs))\n",
        "\n",
        "print(\"----\")\n",
        "print(\"GREEDY COST_SAT\")\n",
        "budget = greedy_rule(items, votes, costs, max_cost, cost_satisfaction)\n",
        "print(\"ANGER: \", anger_ratio(votes, budget))\n",
        "print(\"AVE COST: \", ave_cost(budget, costs))\n",
        "\n",
        "print(\"----\")\n",
        "print(\"GREEDY BIN_SAT\")\n",
        "budget = greedy_rule(items, votes, costs, max_cost, binary_satisfaction)\n",
        "print(\"ANGER: \", anger_ratio(votes, budget))\n",
        "print(\"AVE COST: \", ave_cost(budget, costs))\n",
        "\n",
        "print(\"----\")\n",
        "print(\"PROP GREEDY NUM_SAT\")\n",
        "print(prop_greedy_rule(items, votes, costs, max_cost, num_satisfaction))\n",
        "print(\"ANGER: \", anger_ratio(votes, budget))\n",
        "print(\"AVE COST: \", ave_cost(budget, costs))\n",
        "\n",
        "print(\"----\")\n",
        "print(\"PROP GREEDY COST_SAT\")\n",
        "print(prop_greedy_rule(items, votes, costs, max_cost, cost_satisfaction))\n",
        "print(\"ANGER: \", anger_ratio(votes, budget))\n",
        "print(\"AVE COST: \", ave_cost(budget, costs))\n",
        "\n",
        "print(\"----\")\n",
        "print(\"PROP GREEDY BIN_SAT\")\n",
        "print(prop_greedy_rule(items, votes, costs, max_cost, binary_satisfaction))\n",
        "print(\"ANGER: \", anger_ratio(votes, budget))\n",
        "print(\"AVE COST: \", ave_cost(budget, costs))\n",
        "\n",
        "print(\"----\")\n",
        "print(\"MAX NUM_SAT\")\n",
        "budget = set(max_rule(items, votes, costs, max_cost, num_satisfaction))\n",
        "print(budget)\n",
        "print(\"ANGER: \", anger_ratio(votes, budget))\n",
        "print(\"AVE COST: \", ave_cost(budget, costs))\n",
        "\n",
        "print(\"----\")\n",
        "print(\"MAX COST_SAT\")\n",
        "budget = set(max_rule(items, votes, costs, max_cost, num_satisfaction))\n",
        "print(budget)\n",
        "print(\"ANGER: \", anger_ratio(votes, budget))\n",
        "print(\"AVE COST: \", ave_cost(budget, costs))\n",
        "\n",
        "print(\"----\")\n",
        "print(\"MAX BIN_SAT\")\n",
        "budget = set(max_rule(items, votes, costs, max_cost, num_satisfaction))\n",
        "print(budget)\n",
        "print(\"ANGER: \", anger_ratio(votes, budget))\n",
        "print(\"AVE COST: \", ave_cost(budget, costs))"
      ]
    },
    {
      "cell_type": "markdown",
      "metadata": {
        "id": "65ElafTBYjU9"
      },
      "source": [
        "# Analysis"
      ]
    },
    {
      "cell_type": "markdown",
      "metadata": {
        "id": "gAHbjR5xRQzZ"
      },
      "source": [
        "Greedy: Using the greedy aggregation rule defined above we evaluate it's performance on a sampled real world dataset using each of the satisfaction functions."
      ]
    },
    {
      "cell_type": "code",
      "execution_count": null,
      "metadata": {
        "colab": {
          "base_uri": "https://localhost:8080/",
          "height": 295
        },
        "id": "sK0MyEAxQNL4",
        "outputId": "e6ea3704-eeca-48f7-cd5d-a5bd66f38103"
      },
      "outputs": [
        {
          "data": {
            "image/png": "[encoded data removed]",
            "text/plain": [
              "<Figure size 432x288 with 1 Axes>"
            ]
          },
          "metadata": {
            "needs_background": "light"
          },
          "output_type": "display_data"
        }
      ],
      "source": [
        "# Greedy Aggregation Rule\n",
        "anger = []\n",
        "cost = []\n",
        "votes, items, costs, max_cost = parser('poland_warszawa_2019_siekierki-augustowka.pb')\n",
        "annotations=[\"NUM_SAT\",\"BIN_SAT\",\"COST_SAT\"]\n",
        "\n",
        "budget = greedy_rule(items, votes, costs, max_cost, num_satisfaction)\n",
        "anger.append(anger_ratio(votes, budget))\n",
        "cost.append(ave_cost(budget, costs))\n",
        "\n",
        "budget = greedy_rule(items, votes, costs, max_cost, binary_satisfaction)\n",
        "anger.append(anger_ratio(votes, budget))\n",
        "cost.append(ave_cost(budget, costs))\n",
        "\n",
        "\n",
        "budget = greedy_rule(items, votes, costs, max_cost, cost_satisfaction)\n",
        "anger.append(anger_ratio(votes, budget))\n",
        "cost.append(ave_cost(budget, costs))\n",
        "\n",
        "\n",
        "plt.scatter(cost, anger)\n",
        "plt.xlabel(\"Average Cost\")\n",
        "plt.ylabel(\"Anger Ratio\")\n",
        "plt.title(\"Greedy Aggregation\")\n",
        "for i, label in enumerate(annotations):\n",
        "    plt.annotate(label, (cost[i], anger[i]))\n"
      ]
    },
    {
      "cell_type": "markdown",
      "metadata": {
        "id": "XOSICTnQXyqZ"
      },
      "source": [
        "We see here using the greedy aggregation that the number satisfaction function performs the best with the lowest average cost and anger ratio, while the cost satisfaction method has the greatest cost and anger ratio. The high anger ratio means a greater proportion of voters who were ignored in this election."
      ]
    },
    {
      "cell_type": "markdown",
      "metadata": {
        "id": "RO9pKVhbYcHG"
      },
      "source": [
        "# Prop Greedy Aggregation"
      ]
    },
    {
      "cell_type": "code",
      "execution_count": 25,
      "metadata": {
        "colab": {
          "base_uri": "https://localhost:8080/",
          "height": 312
        },
        "id": "1gT2YT3KYZyd",
        "outputId": "4fa24174-d2a9-4246-a5a0-ee47f6980794"
      },
      "outputs": [
        {
          "data": {
            "text/plain": [
              "Text(0.5, 1.0, 'Prop Greedy Aggregation')"
            ]
          },
          "execution_count": 25,
          "metadata": {},
          "output_type": "execute_result"
        },
        {
          "data": {
            "image/png": "[encoded data removed]",
            "text/plain": [
              "<Figure size 432x288 with 1 Axes>"
            ]
          },
          "metadata": {
            "needs_background": "light"
          },
          "output_type": "display_data"
        }
      ],
      "source": [
        "# Prop Greedy Aggregation Rule\n",
        "anger = []\n",
        "cost = []\n",
        "votes, items, costs, max_cost = parser('poland_warszawa_2019_siekierki-augustowka.pb')\n",
        "annotations=[\"NUM_SAT\",\"BIN_SAT\",\"COST_SAT\"]\n",
        "\n",
        "budget = prop_greedy_rule(items, votes, costs, max_cost, num_satisfaction)\n",
        "anger.append(anger_ratio(votes, budget))\n",
        "cost.append(ave_cost(budget, costs))\n",
        "\n",
        "budget = prop_greedy_rule(items, votes, costs, max_cost, binary_satisfaction)\n",
        "anger.append(anger_ratio(votes, budget))\n",
        "cost.append(ave_cost(budget, costs))\n",
        "\n",
        "\n",
        "budget = prop_greedy_rule(items, votes, costs, max_cost, cost_satisfaction)\n",
        "anger.append(anger_ratio(votes, budget))\n",
        "cost.append(ave_cost(budget, costs))\n",
        "\n",
        "\n",
        "plt.scatter(cost, anger)\n",
        "plt.xlabel(\"Average Cost\")\n",
        "plt.ylabel(\"Anger Ratio\")\n",
        "plt.title(\"Prop Greedy Aggregation\")\n",
        "\n"
      ]
    },
    {
      "cell_type": "markdown",
      "metadata": {
        "id": "9Mtm8hCFY7rd"
      },
      "source": [
        "We see here that the all satisfaction functions produce the same result for the prop greedy aggregation method. This could be because of the normalization parameter.\n"
      ]
    },
    {
      "cell_type": "markdown",
      "metadata": {
        "id": "qgMO6QnbZK2e"
      },
      "source": [
        "# Max Aggregation"
      ]
    },
    {
      "cell_type": "code",
      "execution_count": 49,
      "metadata": {
        "colab": {
          "base_uri": "https://localhost:8080/",
          "height": 295
        },
        "id": "tH4GFKcXZJri",
        "outputId": "da1899e4-d247-4025-ff8f-7968f741e9fd"
      },
      "outputs": [
        {
          "data": {
            "image/png": "[encoded data removed]",
            "text/plain": [
              "<Figure size 432x288 with 1 Axes>"
            ]
          },
          "metadata": {
            "needs_background": "light"
          },
          "output_type": "display_data"
        }
      ],
      "source": [
        "# Max Aggregation Rule\n",
        "anger = []\n",
        "cost = []\n",
        "votes, items, costs, max_cost = parser('poland_warszawa_2019_siekierki-augustowka.pb')\n",
        "annotations=[\"NUM_SAT\",\"BIN_SAT\",\"COST_SAT\"]\n",
        "\n",
        "budget = max_rule(items, votes, costs, max_cost, num_satisfaction)\n",
        "anger.append(anger_ratio(votes, budget))\n",
        "cost.append(ave_cost(budget, costs))\n",
        "\n",
        "budget = max_rule(items, votes, costs, max_cost, binary_satisfaction)\n",
        "anger.append(anger_ratio(votes, budget))\n",
        "cost.append(ave_cost(budget, costs))\n",
        "\n",
        "\n",
        "budget = max_rule(items, votes, costs, max_cost, cost_satisfaction)\n",
        "anger.append(anger_ratio(votes, budget))\n",
        "cost.append(ave_cost(budget, costs))\n",
        "\n",
        "\n",
        "plt.scatter(cost, anger)\n",
        "plt.xlabel(\"Average Cost\")\n",
        "plt.ylabel(\"Anger Ratio\")\n",
        "plt.title(\"Max Aggregation\")\n",
        "for i, label in enumerate(annotations):\n",
        "    plt.annotate(label, (cost[i], anger[i]))\n"
      ]
    },
    {
      "cell_type": "markdown",
      "metadata": {
        "id": "9hB70OO4d5qQ"
      },
      "source": [
        "Here we see that the binary satisfaction has a significantly lower anger ratio but the cost is much higher. The num sat and cost sat have much higher anger ratios but lower average costs. This is most likely because the binary method combined with max aggregation simply chooses the profile where the most amount of voters had one item in."
      ]
    },
    {
      "cell_type": "markdown",
      "metadata": {
        "id": "qZ6F6Egpe3-0"
      },
      "source": [
        "# Second Example"
      ]
    },
    {
      "cell_type": "markdown",
      "metadata": {
        "id": "8E9BUzrdfgrW"
      },
      "source": [
        "# Greedy"
      ]
    },
    {
      "cell_type": "code",
      "execution_count": 48,
      "metadata": {
        "colab": {
          "base_uri": "https://localhost:8080/",
          "height": 295
        },
        "id": "ugDIubinfiSk",
        "outputId": "e2d1038d-a578-4de0-eb9a-e6b7625ed16e"
      },
      "outputs": [
        {
          "data": {
            "image/png": "[encoded data removed]",
            "text/plain": [
              "<Figure size 432x288 with 1 Axes>"
            ]
          },
          "metadata": {
            "needs_background": "light"
          },
          "output_type": "display_data"
        }
      ],
      "source": [
        "# Greedy Aggregation Rule\n",
        "anger = []\n",
        "cost = []\n",
        "votes, items, costs, max_cost = parser('poland_warszawa_2019_nadwisle.pb')\n",
        "annotations=[\"NUM_SAT\",\"BIN_SAT\",\"COST_SAT\"]\n",
        "\n",
        "budget = greedy_rule(items, votes, costs, max_cost, num_satisfaction)\n",
        "anger.append(anger_ratio(votes, budget))\n",
        "cost.append(ave_cost(budget, costs))\n",
        "\n",
        "budget = greedy_rule(items, votes, costs, max_cost, binary_satisfaction)\n",
        "anger.append(anger_ratio(votes, budget))\n",
        "cost.append(ave_cost(budget, costs))\n",
        "\n",
        "\n",
        "budget = greedy_rule(items, votes, costs, max_cost, cost_satisfaction)\n",
        "anger.append(anger_ratio(votes, budget))\n",
        "cost.append(ave_cost(budget, costs))\n",
        "\n",
        "\n",
        "plt.scatter(cost, anger)\n",
        "plt.xlabel(\"Average Cost\")\n",
        "plt.ylabel(\"Anger Ratio\")\n",
        "plt.title(\"Greedy Aggregation\")\n",
        "for i, label in enumerate(annotations):\n",
        "    plt.annotate(label, (cost[i], anger[i]))\n"
      ]
    },
    {
      "cell_type": "markdown",
      "metadata": {
        "id": "loca_JoqfnTY"
      },
      "source": [
        "Here we see that the cost satisfaction rule performs poorly, which is consistent with the previous example. This difference arises because unlike the other two satisfaction functions, cost satisfaction is based on budget cost rather than the amount of chosed items."
      ]
    },
    {
      "cell_type": "markdown",
      "metadata": {
        "id": "VoPTHtChf8_H"
      },
      "source": [
        "# Prop Greedy Aggregation"
      ]
    },
    {
      "cell_type": "code",
      "execution_count": 51,
      "metadata": {
        "colab": {
          "base_uri": "https://localhost:8080/",
          "height": 295
        },
        "id": "IkthIrKdf66E",
        "outputId": "fb66d088-d7a1-4d7e-e37d-0ec5f36798c7"
      },
      "outputs": [
        {
          "data": {
            "image/png": "[encoded data removed]",
            "text/plain": [
              "<Figure size 432x288 with 1 Axes>"
            ]
          },
          "metadata": {
            "needs_background": "light"
          },
          "output_type": "display_data"
        }
      ],
      "source": [
        "# Prop Greedy Aggregation Rule\n",
        "anger = []\n",
        "cost = []\n",
        "votes, items, costs, max_cost = parser('poland_warszawa_2019_nadwisle.pb')\n",
        "annotations=[\"NUM_SAT\",\"BIN_SAT\",\"COST_SAT\"]\n",
        "\n",
        "budget = prop_greedy_rule(items, votes, costs, max_cost, num_satisfaction)\n",
        "anger.append(anger_ratio(votes, budget))\n",
        "cost.append(ave_cost(budget, costs))\n",
        "\n",
        "budget = prop_greedy_rule(items, votes, costs, max_cost, binary_satisfaction)\n",
        "anger.append(anger_ratio(votes, budget))\n",
        "cost.append(ave_cost(budget, costs))\n",
        "\n",
        "\n",
        "budget = prop_greedy_rule(items, votes, costs, max_cost, cost_satisfaction)\n",
        "anger.append(anger_ratio(votes, budget))\n",
        "cost.append(ave_cost(budget, costs))\n",
        "\n",
        "\n",
        "plt.scatter(cost, anger)\n",
        "plt.xlabel(\"Average Cost\")\n",
        "plt.ylabel(\"Anger Ratio\")\n",
        "plt.title(\"Prop Greedy Aggregation\")\n",
        "for i, label in enumerate(annotations):\n",
        "    plt.annotate(label, (cost[i], anger[i]))\n",
        "\n"
      ]
    },
    {
      "cell_type": "markdown",
      "metadata": {
        "id": "A6_h_byhghic"
      },
      "source": [
        "There are some interesting results here. Using the normalized greedy aggregation we have pretty spread out results unlike in the Prop Greedy of the previous example. Binary satisfaction thus seems to perform the best here as it has a good balance between anger ratio and average cost."
      ]
    },
    {
      "cell_type": "markdown",
      "metadata": {
        "id": "cKzl43YDgtdl"
      },
      "source": [
        "#Max Aggregation"
      ]
    },
    {
      "cell_type": "code",
      "execution_count": 52,
      "metadata": {
        "colab": {
          "base_uri": "https://localhost:8080/",
          "height": 295
        },
        "id": "_cGe4e1QgxDC",
        "outputId": "e4bcf770-d1c8-4389-9ca2-4384f234dafa"
      },
      "outputs": [
        {
          "data": {
            "image/png": "[encoded data removed]",
            "text/plain": [
              "<Figure size 432x288 with 1 Axes>"
            ]
          },
          "metadata": {
            "needs_background": "light"
          },
          "output_type": "display_data"
        }
      ],
      "source": [
        "# Max Aggregation Rule\n",
        "anger = []\n",
        "cost = []\n",
        "votes, items, costs, max_cost = parser('poland_warszawa_2019_nadwisle.pb')\n",
        "annotations=[\"NUM_SAT\",\"BIN_SAT\",\"COST_SAT\"]\n",
        "\n",
        "budget = max_rule(items, votes, costs, max_cost, num_satisfaction)\n",
        "anger.append(anger_ratio(votes, budget))\n",
        "cost.append(ave_cost(budget, costs))\n",
        "\n",
        "budget = max_rule(items, votes, costs, max_cost, binary_satisfaction)\n",
        "anger.append(anger_ratio(votes, budget))\n",
        "cost.append(ave_cost(budget, costs))\n",
        "\n",
        "\n",
        "budget = max_rule(items, votes, costs, max_cost, cost_satisfaction)\n",
        "anger.append(anger_ratio(votes, budget))\n",
        "cost.append(ave_cost(budget, costs))\n",
        "\n",
        "\n",
        "plt.scatter(cost, anger)\n",
        "plt.xlabel(\"Average Cost\")\n",
        "plt.ylabel(\"Anger Ratio\")\n",
        "plt.title(\"Max Aggregation\")\n",
        "for i, label in enumerate(annotations):\n",
        "    plt.annotate(label, (cost[i], anger[i]))"
      ]
    },
    {
      "cell_type": "markdown",
      "metadata": {
        "id": "9CsAu45wg8He"
      },
      "source": [
        "Here the cost satisfaction has moved closer towards the binary satisfaction. Once again the cost seems to have moved here because cost satisfaction focuses on total cost vs number of items. The fact that it follows closely to binary satisfaction shows there might be some item that was very popular and had a significant cost."
      ]
    },
    {
      "cell_type": "markdown",
      "metadata": {
        "id": "b0MIKEuZheMs"
      },
      "source": [
        "# Conclusion"
      ]
    },
    {
      "cell_type": "markdown",
      "metadata": {
        "id": "tz9Qu6tkhfUK"
      },
      "source": [
        "From the first example we saw that the greedy aggregation performed the best with the lowest anger ratio and budget cost. However, that result is most likely a function of our chosen metrics. In this study we chose to focus on anger ratio and cost as our metric of evaluation, others might prefer different metrics of evaluation. That topic is also one of great importance and should be considered. \n",
        "\n",
        "From the second example it's a little more unclear which aggregation method and satisfaction function should be chosen. There are some options that have a clear advantage in cost but high anger ratio and vice versa but none that are clearly better than the rest. We believe this will require a decision on how much each point of happiness is worth monetarily. If the average budget is below what the city planned to spend then optimizing for the lowest anger ratio would be best, but in the real world many times budget constraints are very close to the average cost. \n",
        "\n",
        "Future work should be done to apply these methods to more real world data sets to see how theoretical models really perform. "
      ]
    }
  ],
  "metadata": {
    "colab": {
      "collapsed_sections": [],
      "name": "Copy of 366 Notebook.ipynb",
      "provenance": []
    },
    "kernelspec": {
      "display_name": "Python 3",
      "name": "python3"
    },
    "language_info": {
      "name": "python",
      "version": "3.9.9"
    }
  },
  "nbformat": 4,
  "nbformat_minor": 0
}
